{
 "cells": [
  {
   "cell_type": "raw",
   "metadata": {},
   "source": [
    "2017 Python Language Exam (Insrumental)"
   ]
  },
  {
   "cell_type": "markdown",
   "metadata": {},
   "source": [
    "1. Annotate the following code using Python comments."
   ]
  },
  {
   "cell_type": "code",
   "execution_count": 1,
   "metadata": {},
   "outputs": [
    {
     "ename": "SyntaxError",
     "evalue": "invalid syntax (<ipython-input-1-a458d4e8bc1e>, line 55)",
     "output_type": "error",
     "traceback": [
      "\u001b[0;36m  File \u001b[0;32m\"<ipython-input-1-a458d4e8bc1e>\"\u001b[0;36m, line \u001b[0;32m55\u001b[0m\n\u001b[0;31m    except tweepy.error.TweepError, e:\u001b[0m\n\u001b[0m                                  ^\u001b[0m\n\u001b[0;31mSyntaxError\u001b[0m\u001b[0;31m:\u001b[0m invalid syntax\n"
     ]
    }
   ],
   "source": [
    "# Import the Python module named \"csv\" \n",
    "# (used for processing .csv files)\n",
    "import csv\n",
    "# Import the Python module \"datetime\" \n",
    "# (used for handling dates and times)\n",
    "import datetime\n",
    "# Import the Python module \"tweepy\"\n",
    "# (used for processing tweets)\n",
    "import tweepy\n",
    "# Import the python library \"random\" \n",
    "# used for generating random numbers, and other random entities. \n",
    "import random\n",
    "\n",
    "# Set the variable \"path\" to be the value \"/home/bots/\" \n",
    "path = '/home/bots/'\n",
    "\n",
    "# Define the function `creds`\n",
    "def creds():\n",
    "    # Open the file `keys.csv` in read mode, and assign the file object \n",
    "    # to the variable `csvfile`, until the indentation under the `with`\n",
    "    # statement stops. \n",
    "    with open(path + 'keys.csv', 'r') as csvfile:\n",
    "        # instatiate a new DictReader object, using the file object, \n",
    "        # \n",
    "        creds = csv.DictReader(csvfile, delimiter=\",\")\n",
    "        row = creds.next()\n",
    "        return row['consumer_key'], row['consumer_secret'], row['access_token'], row['access_token_secret']\n",
    "\n",
    "def text():\n",
    "    with open(path + 'forbidden.txt', 'r') as f:\n",
    "        flist = f.readlines()\n",
    "        forbid_list = [int(i) for i in flist]\n",
    "\n",
    "    with open(path + 'tweets.txt', 'r') as f:\n",
    "        tweets_list = f.readlines()\n",
    "        tweets_range = len(tweets_list) - 1\n",
    "\n",
    "    tweet_index = random.randint(0,tweets_range)\n",
    "\n",
    "    while tweet_index in forbid_list:\n",
    "        tweet_index = random.randint(0,tweets_range)\n",
    "    else:\n",
    "        with open(path + 'forbidden.txt', 'a') as f:\n",
    "             f.write(str(tweet_index) + '\\n')\n",
    "\n",
    "        return tweets_list[tweet_index]\n",
    "\n",
    "def tweet(k, t):\n",
    "    try:\n",
    "        auth = tweepy.OAuthHandler(k[0], k[1])\n",
    "        auth.set_access_token(k[2], k[3])\n",
    "        api = tweepy.API(auth)\n",
    "        api.update_status(status=t)\n",
    "        \n",
    "    except tweepy.error.TweepError, e:\n",
    "        print e.message[0]['code']\n",
    "        print e.args[0][0]['code']\n",
    "        pass\n",
    "\n",
    "tweet(creds(), text())"
   ]
  },
  {
   "cell_type": "markdown",
   "metadata": {},
   "source": [
    "2. Describe what the above code is doing in a few sentences."
   ]
  },
  {
   "cell_type": "markdown",
   "metadata": {},
   "source": [
    "3. Translate the following pseudo-code logic into Python code. Use standard Python libraries. Annotate and modularize your code whenver possible. Use of online resources is allowed, however you are required to cite any reused logic."
   ]
  },
  {
   "cell_type": "markdown",
   "metadata": {},
   "source": [
    "Sample text: \n",
    "\n",
    "Too stupefied to be curious myself, I fastened my door and glanced round\n",
    "for the bed. The whole furniture consisted of a chair, a clothes-press, and a\n",
    "large oak case, with squares cut out near the top resembling coach windows.\n",
    "Having approached this structure, I looked inside, and perceived it to be a\n",
    "singular sort of old-fashioned couch, very conveniently designed to obviate\n",
    "the necessity for every member of the family having a room to himself. In\n",
    "fact, it formed a little closet, and the ledge of a window, which it enclosed,\n",
    "served as a table. I slid back the panelled sides, got in with my light,\n",
    "pulled them together again, and felt secure against the vigilance of\n",
    "Heathcliff, and every one else.\n"
   ]
  }
 ],
 "metadata": {
  "kernelspec": {
   "display_name": "Python 3",
   "language": "python",
   "name": "python3"
  },
  "language_info": {
   "codemirror_mode": {
    "name": "ipython",
    "version": 3
   },
   "file_extension": ".py",
   "mimetype": "text/x-python",
   "name": "python",
   "nbconvert_exporter": "python",
   "pygments_lexer": "ipython3",
   "version": "3.6.0"
  }
 },
 "nbformat": 4,
 "nbformat_minor": 2
}
